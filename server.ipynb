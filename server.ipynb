{
 "cells": [
  {
   "cell_type": "markdown",
   "id": "9bf61d24",
   "metadata": {},
   "source": [
    "# Server Side"
   ]
  },
  {
   "cell_type": "code",
   "execution_count": null,
   "id": "924dc2bd",
   "metadata": {},
   "outputs": [],
   "source": [
    "\n",
    "import socket\n",
    "import numpy as np\n",
    "import cv2 as cv\n",
    "import threading\n"
   ]
  },
  {
   "cell_type": "code",
   "execution_count": null,
   "id": "6bdbaa1e",
   "metadata": {},
   "outputs": [],
   "source": [
    "s = socket.socket()\n",
    "s.bind((\"\", 1234))\n",
    "s.listen()\n",
    "session, address = s.accept() #accepting request from any server\n",
    "print(session.recv(2046)) \n",
    "cameraIndex = 'http://192.168.225.42:8080/video' # using camera from IPCamera App\n",
    "camera = cv.VideoCapture(cameraIndex) # staritng camera\n",
    "\n",
    "def sender():\n",
    "    while True:\n",
    "        status, photo = camera.read()\n",
    "        photo = cv.resize(photo, (640, 480))\n",
    "        print(photo.shape)\n",
    "        if status:\n",
    "            session.send(np.ndarray.tobytes(photo))\n",
    "        else: \n",
    "            print(\"Could not get frame\")\n",
    "\n",
    "def receiver():\n",
    "    framesLost = 0\n",
    "    print(\"Entered Into Live Stream\")\n",
    "    while True:\n",
    "        framesLost += 1\n",
    "        data = session.recv(100000000)\n",
    "        if(data == b'finished'):\n",
    "            print(\"Finished\")\n",
    "            camera.release()\n",
    "            session.close()\n",
    "        else:\n",
    "            photo =  np.frombuffer(data, dtype=np.uint8)\n",
    "            if len(photo) == 640*480*3:\n",
    "                cv.imshow('From Client', photo.reshape(480, 640, 3))\n",
    "                if cv.waitKey(1) == 13:\n",
    "                    session.send(b'finished')\n",
    "                    camera.release()\n",
    "                    cv.destroyAllWindows()\n",
    "                    break\n",
    "            else:\n",
    "                print(\"Lost {} frames\".format(framesLost) )\n",
    "                \n",
    "threading.Thread(target=sender).start()\n",
    "threading.Thread(target=receiver).start()"
   ]
  },
  {
   "cell_type": "code",
   "execution_count": null,
   "id": "5cf7ddbf",
   "metadata": {},
   "outputs": [],
   "source": []
  }
 ],
 "metadata": {
  "kernelspec": {
   "display_name": "Python 3",
   "language": "python",
   "name": "python3"
  },
  "language_info": {
   "codemirror_mode": {
    "name": "ipython",
    "version": 3
   },
   "file_extension": ".py",
   "mimetype": "text/x-python",
   "name": "python",
   "nbconvert_exporter": "python",
   "pygments_lexer": "ipython3",
   "version": "3.8.8"
  }
 },
 "nbformat": 4,
 "nbformat_minor": 5
}
